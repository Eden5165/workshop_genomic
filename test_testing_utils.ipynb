{
 "cells": [
  {
   "cell_type": "markdown",
   "metadata": {},
   "source": [
    "# Imports"
   ]
  },
  {
   "cell_type": "code",
   "execution_count": 5,
   "metadata": {},
   "outputs": [],
   "source": [
    "import data_prep_utils\n",
    "import testings_utils\n",
    "import missing_vals_utils\n",
    "import random\n",
    "\n",
    "beat_drug_df = data_prep_utils.get_df(\"beat_drug\").transpose()\n",
    "beat_rnaseq = data_prep_utils.get_df(\"beat_rnaseq\").transpose()"
   ]
  },
  {
   "cell_type": "markdown",
   "metadata": {},
   "source": [
    "# Test divide_to_folds"
   ]
  },
  {
   "cell_type": "code",
   "execution_count": 3,
   "metadata": {},
   "outputs": [],
   "source": [
    "genes_folds, drugs_folds = testings_utils.divide_to_folds(beat_rnaseq, beat_drug_df)"
   ]
  },
  {
   "cell_type": "code",
   "execution_count": 4,
   "metadata": {},
   "outputs": [
    {
     "name": "stdout",
     "output_type": "stream",
     "text": [
      "(40, 22843)\n",
      "(40, 22843)\n",
      "(40, 22843)\n",
      "(39, 22843)\n",
      "(39, 22843)\n",
      "(40, 79)\n",
      "(40, 79)\n",
      "(40, 79)\n",
      "(39, 79)\n",
      "(39, 79)\n"
     ]
    }
   ],
   "source": [
    "for fold in genes_folds:\n",
    "    print(fold.shape)\n",
    "\n",
    "for fold in drugs_folds:\n",
    "    print(fold.shape)"
   ]
  },
  {
   "cell_type": "markdown",
   "metadata": {},
   "source": [
    "# Test export_drugs_prediction"
   ]
  },
  {
   "cell_type": "code",
   "execution_count": 5,
   "metadata": {},
   "outputs": [],
   "source": [
    "testings_utils.export_drugs_prediction(data_prep_utils.get_df(\"beat_drug\"), \"test_export\")"
   ]
  },
  {
   "cell_type": "markdown",
   "metadata": {},
   "source": [
    "# Test get_mse"
   ]
  },
  {
   "cell_type": "code",
   "execution_count": 20,
   "metadata": {},
   "outputs": [
    {
     "name": "stdout",
     "output_type": "stream",
     "text": [
      "(79, 198)\n"
     ]
    },
    {
     "data": {
      "text/plain": [
       "1.2421685206495334"
      ]
     },
     "execution_count": 20,
     "metadata": {},
     "output_type": "execute_result"
    }
   ],
   "source": [
    "true_drugs = missing_vals_utils.missing_vals_knn(data_prep_utils.get_df(\"beat_drug\"))\n",
    "pred_drugs = true_drugs.copy()\n",
    "print(true_drugs.shape)\n",
    "for i in range(500):\n",
    "    row = random.randint(0, 78)\n",
    "    col = random.randint(0, 197)\n",
    "    pred_drugs.iloc[row, col] = pred_drugs.iloc[row, col] + random.randint(0, 10)\n",
    "testings_utils.get_mse(true_drugs, pred_drugs)"
   ]
  }
 ],
 "metadata": {
  "interpreter": {
   "hash": "9a6b161a4b356fde7714683ba8cb94ad5d9948d671ec480741084d3937136412"
  },
  "kernelspec": {
   "display_name": "Python 3.9.0 64-bit",
   "language": "python",
   "name": "python3"
  },
  "language_info": {
   "codemirror_mode": {
    "name": "ipython",
    "version": 3
   },
   "file_extension": ".py",
   "mimetype": "text/x-python",
   "name": "python",
   "nbconvert_exporter": "python",
   "pygments_lexer": "ipython3",
   "version": "3.9.0"
  },
  "orig_nbformat": 4
 },
 "nbformat": 4,
 "nbformat_minor": 2
}
