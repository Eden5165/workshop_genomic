{
 "cells": [
  {
   "cell_type": "markdown",
   "metadata": {},
   "source": [
    "# Imports"
   ]
  },
  {
   "cell_type": "code",
   "execution_count": 1,
   "metadata": {},
   "outputs": [],
   "source": [
    "import sys\n",
    "import os\n",
    "current = os.getcwd()\n",
    "parent = os.path.dirname(current)\n",
    "sys.path.append(parent)"
   ]
  },
  {
   "cell_type": "code",
   "execution_count": 2,
   "metadata": {},
   "outputs": [],
   "source": [
    "import matplotlib.pyplot as plt\n",
    "import pandas as pd\n",
    "import os\n",
    "import numpy as np\n",
    "\n",
    "from sklearn.linear_model import LinearRegression\n",
    "from sklearn.metrics import r2_score, mean_squared_error\n",
    "from sklearn.model_selection import train_test_split\n",
    "from sklearn import datasets, linear_model"
   ]
  },
  {
   "cell_type": "code",
   "execution_count": 4,
   "metadata": {},
   "outputs": [],
   "source": [
    "from utils.linear_regression_utils import liner_regression\n",
    "import utils.data_prep_utils as data_p\n",
    "from utils.feature_selection_utils import *\n",
    "from utils.dimension_reduction_utils import *"
   ]
  },
  {
   "cell_type": "markdown",
   "metadata": {},
   "source": [
    "# Load data"
   ]
  },
  {
   "cell_type": "code",
   "execution_count": 15,
   "metadata": {},
   "outputs": [],
   "source": [
    "beat_drug = data_p.get_df(\"beat_drug\")\n",
    "beat_rna = data_p.get_df(\"beat_rnaseq\")\n",
    "tcga_rna = data_p.get_df(\"tcga_rna\")"
   ]
  },
  {
   "cell_type": "markdown",
   "metadata": {},
   "source": [
    "# First task genes compare to drug"
   ]
  },
  {
   "cell_type": "code",
   "execution_count": 9,
   "metadata": {},
   "outputs": [
    {
     "data": {
      "text/html": [
       "<div>\n",
       "<style scoped>\n",
       "    .dataframe tbody tr th:only-of-type {\n",
       "        vertical-align: middle;\n",
       "    }\n",
       "\n",
       "    .dataframe tbody tr th {\n",
       "        vertical-align: top;\n",
       "    }\n",
       "\n",
       "    .dataframe thead th {\n",
       "        text-align: right;\n",
       "    }\n",
       "</style>\n",
       "<table border=\"1\" class=\"dataframe\">\n",
       "  <thead>\n",
       "    <tr style=\"text-align: right;\">\n",
       "      <th></th>\n",
       "      <th>TSPAN6</th>\n",
       "      <th>DPM1</th>\n",
       "      <th>SCYL3</th>\n",
       "      <th>C1orf112</th>\n",
       "      <th>FGR</th>\n",
       "      <th>CFH</th>\n",
       "      <th>FUCA2</th>\n",
       "      <th>GCLC</th>\n",
       "      <th>NFYA</th>\n",
       "      <th>STPG1</th>\n",
       "      <th>...</th>\n",
       "      <th>RP11-218F10.3</th>\n",
       "      <th>RP11-686O6.2</th>\n",
       "      <th>RP11-313P22.1</th>\n",
       "      <th>RP11-548H3.1</th>\n",
       "      <th>RP11-102N12.3</th>\n",
       "      <th>RP11-196O16.1</th>\n",
       "      <th>RP4-671G15.2</th>\n",
       "      <th>RP11-731C17.2</th>\n",
       "      <th>RP4-621B10.8</th>\n",
       "      <th>RP11-114I8.4</th>\n",
       "    </tr>\n",
       "  </thead>\n",
       "  <tbody>\n",
       "    <tr>\n",
       "      <th>12-00066</th>\n",
       "      <td>0.070215</td>\n",
       "      <td>23.311415</td>\n",
       "      <td>10.532266</td>\n",
       "      <td>11.129094</td>\n",
       "      <td>906.792960</td>\n",
       "      <td>4.739520</td>\n",
       "      <td>43.849332</td>\n",
       "      <td>44.340838</td>\n",
       "      <td>57.435955</td>\n",
       "      <td>4.177799</td>\n",
       "      <td>...</td>\n",
       "      <td>0.491506</td>\n",
       "      <td>0.140430</td>\n",
       "      <td>0.210645</td>\n",
       "      <td>1.509625</td>\n",
       "      <td>0.210645</td>\n",
       "      <td>0.315968</td>\n",
       "      <td>0.105323</td>\n",
       "      <td>1.298979</td>\n",
       "      <td>0.035108</td>\n",
       "      <td>0.561721</td>\n",
       "    </tr>\n",
       "    <tr>\n",
       "      <th>12-00150</th>\n",
       "      <td>1.709459</td>\n",
       "      <td>32.137834</td>\n",
       "      <td>17.778376</td>\n",
       "      <td>11.253940</td>\n",
       "      <td>49.004499</td>\n",
       "      <td>8.262386</td>\n",
       "      <td>84.589743</td>\n",
       "      <td>39.346054</td>\n",
       "      <td>32.052361</td>\n",
       "      <td>10.199774</td>\n",
       "      <td>...</td>\n",
       "      <td>0.142455</td>\n",
       "      <td>0.626802</td>\n",
       "      <td>0.142455</td>\n",
       "      <td>1.310585</td>\n",
       "      <td>1.481531</td>\n",
       "      <td>1.082658</td>\n",
       "      <td>0.000000</td>\n",
       "      <td>0.626802</td>\n",
       "      <td>0.000000</td>\n",
       "      <td>0.170946</td>\n",
       "    </tr>\n",
       "    <tr>\n",
       "      <th>12-00211</th>\n",
       "      <td>0.000000</td>\n",
       "      <td>25.117470</td>\n",
       "      <td>37.659392</td>\n",
       "      <td>12.541923</td>\n",
       "      <td>111.834945</td>\n",
       "      <td>2.118341</td>\n",
       "      <td>59.078171</td>\n",
       "      <td>67.349788</td>\n",
       "      <td>77.470749</td>\n",
       "      <td>7.767250</td>\n",
       "      <td>...</td>\n",
       "      <td>1.513101</td>\n",
       "      <td>0.302620</td>\n",
       "      <td>0.134498</td>\n",
       "      <td>2.051092</td>\n",
       "      <td>0.067249</td>\n",
       "      <td>0.975109</td>\n",
       "      <td>0.067249</td>\n",
       "      <td>2.622708</td>\n",
       "      <td>0.369869</td>\n",
       "      <td>1.613974</td>\n",
       "    </tr>\n",
       "    <tr>\n",
       "      <th>12-00258</th>\n",
       "      <td>0.000000</td>\n",
       "      <td>29.351673</td>\n",
       "      <td>15.647852</td>\n",
       "      <td>8.190423</td>\n",
       "      <td>1004.458236</td>\n",
       "      <td>30.403362</td>\n",
       "      <td>30.020930</td>\n",
       "      <td>44.011575</td>\n",
       "      <td>51.692089</td>\n",
       "      <td>5.035358</td>\n",
       "      <td>...</td>\n",
       "      <td>0.286824</td>\n",
       "      <td>0.828603</td>\n",
       "      <td>0.127477</td>\n",
       "      <td>2.645156</td>\n",
       "      <td>0.573648</td>\n",
       "      <td>0.350563</td>\n",
       "      <td>0.063739</td>\n",
       "      <td>0.956081</td>\n",
       "      <td>0.382432</td>\n",
       "      <td>0.223085</td>\n",
       "    </tr>\n",
       "    <tr>\n",
       "      <th>12-00294</th>\n",
       "      <td>0.000000</td>\n",
       "      <td>31.240770</td>\n",
       "      <td>39.189992</td>\n",
       "      <td>18.875313</td>\n",
       "      <td>267.852800</td>\n",
       "      <td>2.388038</td>\n",
       "      <td>37.325360</td>\n",
       "      <td>56.429663</td>\n",
       "      <td>60.060789</td>\n",
       "      <td>6.379005</td>\n",
       "      <td>...</td>\n",
       "      <td>1.962771</td>\n",
       "      <td>0.196277</td>\n",
       "      <td>0.228990</td>\n",
       "      <td>2.224474</td>\n",
       "      <td>0.425267</td>\n",
       "      <td>0.032713</td>\n",
       "      <td>0.228990</td>\n",
       "      <td>4.710650</td>\n",
       "      <td>0.817821</td>\n",
       "      <td>0.883247</td>\n",
       "    </tr>\n",
       "  </tbody>\n",
       "</table>\n",
       "<p>5 rows × 22843 columns</p>\n",
       "</div>"
      ],
      "text/plain": [
       "            TSPAN6       DPM1      SCYL3   C1orf112          FGR        CFH  \\\n",
       "12-00066  0.070215  23.311415  10.532266  11.129094   906.792960   4.739520   \n",
       "12-00150  1.709459  32.137834  17.778376  11.253940    49.004499   8.262386   \n",
       "12-00211  0.000000  25.117470  37.659392  12.541923   111.834945   2.118341   \n",
       "12-00258  0.000000  29.351673  15.647852   8.190423  1004.458236  30.403362   \n",
       "12-00294  0.000000  31.240770  39.189992  18.875313   267.852800   2.388038   \n",
       "\n",
       "              FUCA2       GCLC       NFYA      STPG1  ...  RP11-218F10.3  \\\n",
       "12-00066  43.849332  44.340838  57.435955   4.177799  ...       0.491506   \n",
       "12-00150  84.589743  39.346054  32.052361  10.199774  ...       0.142455   \n",
       "12-00211  59.078171  67.349788  77.470749   7.767250  ...       1.513101   \n",
       "12-00258  30.020930  44.011575  51.692089   5.035358  ...       0.286824   \n",
       "12-00294  37.325360  56.429663  60.060789   6.379005  ...       1.962771   \n",
       "\n",
       "          RP11-686O6.2  RP11-313P22.1  RP11-548H3.1  RP11-102N12.3  \\\n",
       "12-00066      0.140430       0.210645      1.509625       0.210645   \n",
       "12-00150      0.626802       0.142455      1.310585       1.481531   \n",
       "12-00211      0.302620       0.134498      2.051092       0.067249   \n",
       "12-00258      0.828603       0.127477      2.645156       0.573648   \n",
       "12-00294      0.196277       0.228990      2.224474       0.425267   \n",
       "\n",
       "          RP11-196O16.1  RP4-671G15.2  RP11-731C17.2  RP4-621B10.8  \\\n",
       "12-00066       0.315968      0.105323       1.298979      0.035108   \n",
       "12-00150       1.082658      0.000000       0.626802      0.000000   \n",
       "12-00211       0.975109      0.067249       2.622708      0.369869   \n",
       "12-00258       0.350563      0.063739       0.956081      0.382432   \n",
       "12-00294       0.032713      0.228990       4.710650      0.817821   \n",
       "\n",
       "          RP11-114I8.4  \n",
       "12-00066      0.561721  \n",
       "12-00150      0.170946  \n",
       "12-00211      1.613974  \n",
       "12-00258      0.223085  \n",
       "12-00294      0.883247  \n",
       "\n",
       "[5 rows x 22843 columns]"
      ]
     },
     "execution_count": 9,
     "metadata": {},
     "output_type": "execute_result"
    }
   ],
   "source": [
    "beat_genes.head()"
   ]
  },
  {
   "cell_type": "markdown",
   "metadata": {},
   "source": [
    "### Liner Regression drug + Genes cuples"
   ]
  },
  {
   "cell_type": "code",
   "execution_count": null,
   "metadata": {},
   "outputs": [
    {
     "data": {
      "text/plain": [
       "12-00066    0.070215\n",
       "12-00150    1.709459\n",
       "12-00211    0.000000\n",
       "12-00258    0.000000\n",
       "12-00294    0.000000\n",
       "              ...   \n",
       "16-01219    0.085224\n",
       "16-01227    0.395749\n",
       "16-01237    0.249059\n",
       "16-01262    0.142059\n",
       "16-01270    0.150957\n",
       "Name: TSPAN6, Length: 198, dtype: float64"
      ]
     },
     "execution_count": 39,
     "metadata": {},
     "output_type": "execute_result"
    }
   ],
   "source": [
    "import numpy as np\n",
    "from sklearn import datasets, linear_model\n",
    "from sklearn.metrics import mean_squared_error, r2_score\n",
    "\n",
    "x = beat_genes.iloc[0,:]\n",
    "x\n",
    "# y = beat_drug.values[0]\n",
    "\n",
    "# X = []\n",
    "# for i in x:\n",
    "#     X.append(np.array([i]))\n",
    "# X = np.array(X)\n",
    "\n",
    "\n",
    "# reger = LinearRegression()\n",
    "# reger.fit(train_X, train_y)\n",
    "\n",
    "\n",
    "\n",
    "# # Split the data into training/testing sets\n",
    "# diabetes_X_train = diabetes_X[:-20]\n",
    "# diabetes_X_test = diabetes_X[-20:]\n",
    "\n",
    "# # Split the targets into training/testing sets\n",
    "# diabetes_y_train = diabetes_y[:-20]\n",
    "# diabetes_y_test = diabetes_y[-20:]\n",
    "\n",
    "# # Create linear regression object\n",
    "# regr = linear_model.LinearRegression()\n",
    "\n",
    "# # Train the model using the training sets\n",
    "# regr.fit(diabetes_X_train, diabetes_y_train)\n",
    "\n",
    "# # Make predictions using the testing set\n",
    "# diabetes_y_pred = regr.predict(diabetes_X_test)\n",
    "\n",
    "# # The coefficients\n",
    "# print(\"Coefficients: \\n\", regr.coef_)\n",
    "# # The mean squared error\n",
    "# print(\"Mean squared error: %.2f\" % mean_squared_error(diabetes_y_test, diabetes_y_pred))\n",
    "# # The coefficient of determination: 1 is perfect prediction\n",
    "# print(\"Coefficient of determination: %.2f\" % r2_score(diabetes_y_test, diabetes_y_pred))\n",
    "\n",
    "# # Plot outputs\n",
    "# plt.scatter(diabetes_X_test, diabetes_y_test, color=\"black\")\n",
    "# plt.plot(diabetes_X_test, diabetes_y_pred, color=\"blue\", linewidth=3)\n",
    "\n",
    "# plt.xticks(())\n",
    "# plt.yticks(())\n",
    "\n",
    "# plt.show()\n"
   ]
  },
  {
   "cell_type": "code",
   "execution_count": null,
   "metadata": {},
   "outputs": [
    {
     "ename": "NameError",
     "evalue": "name 'beat_genes' is not defined",
     "output_type": "error",
     "traceback": [
      "\u001b[0;31m---------------------------------------------------------------------------\u001b[0m",
      "\u001b[0;31mNameError\u001b[0m                                 Traceback (most recent call last)",
      "\u001b[0;32m/var/folders/69/h1g_nlt14l330h_dfyjlfgbh0000gn/T/ipykernel_62771/621048154.py\u001b[0m in \u001b[0;36m<module>\u001b[0;34m\u001b[0m\n\u001b[1;32m      1\u001b[0m \u001b[0;31m# t_beat_drug = beat_drug.transpose().reset_index().rename(columns={\"index\": \"sampleID\"})\u001b[0m\u001b[0;34m\u001b[0m\u001b[0;34m\u001b[0m\u001b[0;34m\u001b[0m\u001b[0m\n\u001b[0;32m----> 2\u001b[0;31m \u001b[0mt_beat_genes\u001b[0m \u001b[0;34m=\u001b[0m \u001b[0mbeat_genes\u001b[0m\u001b[0;34m.\u001b[0m\u001b[0mtranspose\u001b[0m\u001b[0;34m(\u001b[0m\u001b[0;34m)\u001b[0m\u001b[0;34m.\u001b[0m\u001b[0mreset_index\u001b[0m\u001b[0;34m(\u001b[0m\u001b[0;34m)\u001b[0m\u001b[0;34m.\u001b[0m\u001b[0mrename\u001b[0m\u001b[0;34m(\u001b[0m\u001b[0mcolumns\u001b[0m\u001b[0;34m=\u001b[0m\u001b[0;34m{\u001b[0m\u001b[0;34m\"index\"\u001b[0m\u001b[0;34m:\u001b[0m \u001b[0;34m\"sampleID\"\u001b[0m\u001b[0;34m}\u001b[0m\u001b[0;34m)\u001b[0m\u001b[0;34m\u001b[0m\u001b[0;34m\u001b[0m\u001b[0m\n\u001b[0m\u001b[1;32m      3\u001b[0m \u001b[0mt_beat_genes\u001b[0m\u001b[0;34m.\u001b[0m\u001b[0mshape\u001b[0m\u001b[0;34m(\u001b[0m\u001b[0;34m)\u001b[0m\u001b[0;34m\u001b[0m\u001b[0;34m\u001b[0m\u001b[0m\n\u001b[1;32m      4\u001b[0m \u001b[0mt_beat_genes\u001b[0m\u001b[0;34m.\u001b[0m\u001b[0mdescribe\u001b[0m\u001b[0;34m(\u001b[0m\u001b[0;34m)\u001b[0m\u001b[0;34m\u001b[0m\u001b[0;34m\u001b[0m\u001b[0m\n\u001b[1;32m      5\u001b[0m \u001b[0;31m# x = t_beat_drug\u001b[0m\u001b[0;34m\u001b[0m\u001b[0;34m\u001b[0m\u001b[0;34m\u001b[0m\u001b[0m\n",
      "\u001b[0;31mNameError\u001b[0m: name 'beat_genes' is not defined"
     ]
    }
   ],
   "source": [
    "# t_beat_drug = beat_drug.transpose().reset_index().rename(columns={\"index\": \"sampleID\"})\n",
    "t_beat_genes = beat_genes.transpose().reset_index().rename(columns={\"index\": \"sampleID\"})\n",
    "t_beat_genes.shape()\n",
    "t_beat_genes.describe()\n",
    "# x = t_beat_drug\n",
    "# y = t_beat_genes.values[5]\n",
    "# plt.plot(x,y, 'bo')"
   ]
  },
  {
   "cell_type": "markdown",
   "metadata": {},
   "source": []
  },
  {
   "cell_type": "markdown",
   "metadata": {},
   "source": [
    "# Task 2"
   ]
  },
  {
   "cell_type": "code",
   "execution_count": 34,
   "metadata": {},
   "outputs": [
    {
     "data": {
      "text/plain": [
       "(167, 20281)"
      ]
     },
     "execution_count": 34,
     "metadata": {},
     "output_type": "execute_result"
    }
   ],
   "source": [
    "beat_genes, tcga_genes = data_p.filter_beat_by_tcga(beat_rna,tcga_rna)\n",
    "beat_by_tcga_genes_trans = data_p.transpose_df(beat_by_tcga_genes.sort_index())\n",
    "tcga_rna_trans = data_p.transpose_df(tcga_rna)\n",
    "tcga_rna_trans.shape"
   ]
  },
  {
   "cell_type": "code",
   "execution_count": null,
   "metadata": {},
   "outputs": [],
   "source": []
  }
 ],
 "metadata": {
  "interpreter": {
   "hash": "31f2aee4e71d21fbe5cf8b01ff0e069b9275f58929596ceb00d14d90e3e16cd6"
  },
  "kernelspec": {
   "display_name": "Python 3.8.9 64-bit",
   "language": "python",
   "name": "python3"
  },
  "language_info": {
   "codemirror_mode": {
    "name": "ipython",
    "version": 3
   },
   "file_extension": ".py",
   "mimetype": "text/x-python",
   "name": "python",
   "nbconvert_exporter": "python",
   "pygments_lexer": "ipython3",
   "version": "3.8.5"
  },
  "orig_nbformat": 4
 },
 "nbformat": 4,
 "nbformat_minor": 2
}
