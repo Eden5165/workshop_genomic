{
 "cells": [
  {
   "cell_type": "markdown",
   "metadata": {},
   "source": [
    "# Imports"
   ]
  },
  {
   "cell_type": "code",
   "execution_count": 14,
   "metadata": {},
   "outputs": [],
   "source": [
    "import matplotlib.pyplot as plt\n",
    "import pandas as pd\n",
    "import os\n",
    "import numpy as np\n",
    "\n",
    "from sklearn.linear_model import LinearRegression\n",
    "from sklearn.metrics import r2_score, mean_squared_error\n",
    "from sklearn.model_selection import train_test_split\n",
    "from sklearn import datasets, linear_model"
   ]
  },
  {
   "cell_type": "code",
   "execution_count": 15,
   "metadata": {},
   "outputs": [],
   "source": [
    "from linear_regression_utils import liner_regression\n",
    "import data_prep_utils\n",
    "from feature_selection_utils import *\n",
    "from dimension_reduction_utils import *"
   ]
  },
  {
   "cell_type": "markdown",
   "metadata": {},
   "source": [
    "# Load data"
   ]
  },
  {
   "cell_type": "code",
   "execution_count": 16,
   "metadata": {},
   "outputs": [
    {
     "name": "stdout",
     "output_type": "stream",
     "text": [
      "dict_keys(['drug_mut_cor', 'beat_drug', 'tcga_mut', 'beat_rnaseq', 'tcga_rna', 'drug_mut_cor_labels'])\n"
     ]
    }
   ],
   "source": [
    "dfs = {}\n",
    "\n",
    "for table_name in os.listdir(os.path.join(os.getcwd(), \"medical_genomics_2021_data\")):\n",
    "    dfs[table_name] = data_prep_utils.get_df(table_name)\n",
    "\n",
    "print(dfs.keys())\n",
    "\n",
    "to_be_transposed = dfs.keys() - ['drug_mut_cor', 'drug_mut_cor_labels']\n",
    "for table_name in to_be_transposed:\n",
    "    dfs[table_name] = data_prep_utils.transpose_df(dfs[table_name])\n"
   ]
  },
  {
   "cell_type": "code",
   "execution_count": 17,
   "metadata": {},
   "outputs": [],
   "source": [
    "genes_df = dfs['beat_rnaseq']\n",
    "drug_df = dfs['beat_drug']"
   ]
  },
  {
   "cell_type": "markdown",
   "metadata": {},
   "source": [
    "# feature selections utils\n"
   ]
  },
  {
   "cell_type": "code",
   "execution_count": 19,
   "metadata": {},
   "outputs": [
    {
     "name": "stdout",
     "output_type": "stream",
     "text": [
      "(198, 22843)\n",
      "(198, 16255)\n"
     ]
    }
   ],
   "source": [
    "genes_high_var_filtered = select_high_var_genes(genes_df)"
   ]
  },
  {
   "cell_type": "code",
   "execution_count": 20,
   "metadata": {},
   "outputs": [
    {
     "name": "stdout",
     "output_type": "stream",
     "text": [
      "1  -  A-674563  ->  16247\n",
      "2  -  Afatinib (BIBW-2992)  ->  16232\n",
      "3  -  Alisertib (MLN8237)  ->  16180\n",
      "4  -  Axitinib (AG-013736)  ->  16176\n",
      "5  -  AZD1480  ->  16176\n",
      "6  -  Barasertib (AZD1152-HQPA)  ->  15892\n",
      "7  -  BEZ235  ->  15891\n",
      "8  -  BMS-345541  ->  15890\n",
      "9  -  Bortezomib (Velcade)  ->  15849\n",
      "10  -  Bosutinib (SKI-606)  ->  15840\n",
      "11  -  Canertinib (CI-1033)  ->  15812\n",
      "12  -  Cediranib (AZD2171)  ->  15811\n",
      "13  -  CHIR-99021  ->  15811\n",
      "14  -  CI-1040 (PD184352)  ->  15720\n",
      "15  -  Crenolanib  ->  15707\n",
      "16  -  Crizotinib (PF-2341066)  ->  15707\n",
      "17  -  CYT387  ->  15707\n",
      "18  -  Dasatinib  ->  15595\n",
      "19  -  Doramapimod (BIRB 796)  ->  15595\n",
      "20  -  Dovitinib (CHIR-258)  ->  15555\n",
      "21  -  Erlotinib  ->  14366\n",
      "22  -  Flavopiridol  ->  14332\n",
      "23  -  Foretinib (XL880)  ->  14322\n",
      "24  -  GDC-0879  ->  14311\n",
      "25  -  Gefitinib  ->  14273\n",
      "26  -  GSK-1838705A  ->  14267\n",
      "27  -  GSK-1904529A  ->  14231\n",
      "28  -  GSK690693  ->  14229\n",
      "29  -  Idelalisib  ->  14224\n",
      "30  -  Imatinib  ->  14224\n",
      "31  -  INK-128  ->  14224\n",
      "32  -  JAK Inhibitor I  ->  14224\n",
      "33  -  JNJ-38877605  ->  14208\n",
      "34  -  JNJ-7706621  ->  14203\n",
      "35  -  KI20227  ->  14199\n",
      "36  -  KU-55933  ->  14196\n",
      "37  -  KW-2449  ->  14189\n",
      "38  -  Lapatinib  ->  14184\n",
      "39  -  Linifanib (ABT-869)  ->  14102\n",
      "40  -  LY-333531  ->  13961\n",
      "41  -  Masitinib (AB-1010)  ->  13961\n",
      "42  -  Midostaurin  ->  13961\n",
      "43  -  MLN120B  ->  13958\n",
      "44  -  MLN8054  ->  13949\n",
      "45  -  Motesanib (AMG-706)  ->  13948\n",
      "46  -  Neratinib (HKI-272)  ->  13929\n",
      "47  -  Nilotinib  ->  13893\n",
      "48  -  NVP-TAE684  ->  13883\n",
      "49  -  Pazopanib (GW786034)  ->  13880\n",
      "50  -  PD173955  ->  13877\n",
      "51  -  Pelitinib (EKB-569)  ->  13875\n",
      "52  -  PHA-665752  ->  13796\n",
      "53  -  PI-103  ->  13790\n",
      "54  -  Ponatinib (AP24534)  ->  13740\n",
      "55  -  PP242  ->  13740\n",
      "56  -  PRT062607  ->  13723\n",
      "57  -  Quizartinib (AC220)  ->  13668\n",
      "58  -  RAF265 (CHIR-265)  ->  13664\n",
      "59  -  Rapamycin  ->  13662\n",
      "60  -  Regorafenib (BAY 73-4506)  ->  13614\n",
      "61  -  Roscovitine (CYC-202)  ->  13611\n",
      "62  -  Ruxolitinib (INCB018424)  ->  13602\n",
      "63  -  SB-431542  ->  13598\n",
      "64  -  Selumetinib (AZD6244)  ->  13421\n",
      "65  -  SGX-523  ->  13418\n",
      "66  -  SNS-032 (BMS-387032)  ->  13349\n",
      "67  -  Sorafenib  ->  13257\n",
      "68  -  STO609  ->  13199\n",
      "69  -  Sunitinib  ->  13196\n",
      "70  -  TG100-115  ->  13171\n",
      "71  -  Tofacitinib (CP-690550)  ->  13148\n",
      "72  -  Tozasertib (VX-680)  ->  13148\n",
      "73  -  Trametinib (GSK1120212)  ->  13135\n",
      "74  -  Vandetanib (ZD6474)  ->  13134\n",
      "75  -  Vargetef  ->  13130\n",
      "76  -  Vatalanib (PTK787)  ->  13124\n",
      "77  -  Vismodegib (GDC-0449)  ->  13103\n",
      "78  -  VX-745  ->  13101\n",
      "79  -  YM-155  ->  13086\n"
     ]
    }
   ],
   "source": [
    "gene_filtered_by_corr = select_gene_by_corrlation(genes_high_var_filtered, drug_df)"
   ]
  },
  {
   "cell_type": "code",
   "execution_count": 21,
   "metadata": {},
   "outputs": [
    {
     "name": "stdout",
     "output_type": "stream",
     "text": [
      "(198, 3169)\n",
      "(198, 120)\n"
     ]
    }
   ],
   "source": [
    "after_pca = pca(gene_filtered_by_corr)"
   ]
  },
  {
   "cell_type": "markdown",
   "metadata": {},
   "source": [
    "# First task genes compare to drug"
   ]
  },
  {
   "cell_type": "code",
   "execution_count": null,
   "metadata": {},
   "outputs": [],
   "source": [
    "dir_path = \"medical_genomics_2021_data\"\n",
    "beat_drug = pd.read_csv(os.path.join(dir_path, \"beat_drug\"), sep='\\t', header=0)\n",
    "beat_genes = pd.read_csv(os.path.join(dir_path, \"beat_rnaseq\"), sep='\\t', header=0)\n"
   ]
  },
  {
   "cell_type": "code",
   "execution_count": null,
   "metadata": {},
   "outputs": [],
   "source": [
    "t_beat_drug = beat_drug.transpose().fillna(0.0).reset_index().rename(columns={\"index\": \"sampleID\"})\n",
    "t_beat_genes = beat_genes.transpose().reset_index().rename(columns={\"index\": \"sampleID\"})"
   ]
  },
  {
   "cell_type": "markdown",
   "metadata": {},
   "source": [
    "### Liner Regression drug + Genes cuples"
   ]
  },
  {
   "cell_type": "code",
   "execution_count": null,
   "metadata": {},
   "outputs": [
    {
     "data": {
      "text/plain": [
       "12-00066    0.070215\n",
       "12-00150    1.709459\n",
       "12-00211    0.000000\n",
       "12-00258    0.000000\n",
       "12-00294    0.000000\n",
       "              ...   \n",
       "16-01219    0.085224\n",
       "16-01227    0.395749\n",
       "16-01237    0.249059\n",
       "16-01262    0.142059\n",
       "16-01270    0.150957\n",
       "Name: TSPAN6, Length: 198, dtype: float64"
      ]
     },
     "execution_count": 39,
     "metadata": {},
     "output_type": "execute_result"
    }
   ],
   "source": [
    "import numpy as np\n",
    "from sklearn import datasets, linear_model\n",
    "from sklearn.metrics import mean_squared_error, r2_score\n",
    "\n",
    "x = beat_genes.iloc[0,:]\n",
    "x\n",
    "# y = beat_drug.values[0]\n",
    "\n",
    "# X = []\n",
    "# for i in x:\n",
    "#     X.append(np.array([i]))\n",
    "# X = np.array(X)\n",
    "\n",
    "\n",
    "# reger = LinearRegression()\n",
    "# reger.fit(train_X, train_y)\n",
    "\n",
    "\n",
    "\n",
    "# # Split the data into training/testing sets\n",
    "# diabetes_X_train = diabetes_X[:-20]\n",
    "# diabetes_X_test = diabetes_X[-20:]\n",
    "\n",
    "# # Split the targets into training/testing sets\n",
    "# diabetes_y_train = diabetes_y[:-20]\n",
    "# diabetes_y_test = diabetes_y[-20:]\n",
    "\n",
    "# # Create linear regression object\n",
    "# regr = linear_model.LinearRegression()\n",
    "\n",
    "# # Train the model using the training sets\n",
    "# regr.fit(diabetes_X_train, diabetes_y_train)\n",
    "\n",
    "# # Make predictions using the testing set\n",
    "# diabetes_y_pred = regr.predict(diabetes_X_test)\n",
    "\n",
    "# # The coefficients\n",
    "# print(\"Coefficients: \\n\", regr.coef_)\n",
    "# # The mean squared error\n",
    "# print(\"Mean squared error: %.2f\" % mean_squared_error(diabetes_y_test, diabetes_y_pred))\n",
    "# # The coefficient of determination: 1 is perfect prediction\n",
    "# print(\"Coefficient of determination: %.2f\" % r2_score(diabetes_y_test, diabetes_y_pred))\n",
    "\n",
    "# # Plot outputs\n",
    "# plt.scatter(diabetes_X_test, diabetes_y_test, color=\"black\")\n",
    "# plt.plot(diabetes_X_test, diabetes_y_pred, color=\"blue\", linewidth=3)\n",
    "\n",
    "# plt.xticks(())\n",
    "# plt.yticks(())\n",
    "\n",
    "# plt.show()\n"
   ]
  },
  {
   "cell_type": "code",
   "execution_count": null,
   "metadata": {},
   "outputs": [
    {
     "ename": "NameError",
     "evalue": "name 'beat_genes' is not defined",
     "output_type": "error",
     "traceback": [
      "\u001b[0;31m---------------------------------------------------------------------------\u001b[0m",
      "\u001b[0;31mNameError\u001b[0m                                 Traceback (most recent call last)",
      "\u001b[0;32m/var/folders/69/h1g_nlt14l330h_dfyjlfgbh0000gn/T/ipykernel_62771/621048154.py\u001b[0m in \u001b[0;36m<module>\u001b[0;34m\u001b[0m\n\u001b[1;32m      1\u001b[0m \u001b[0;31m# t_beat_drug = beat_drug.transpose().reset_index().rename(columns={\"index\": \"sampleID\"})\u001b[0m\u001b[0;34m\u001b[0m\u001b[0;34m\u001b[0m\u001b[0;34m\u001b[0m\u001b[0m\n\u001b[0;32m----> 2\u001b[0;31m \u001b[0mt_beat_genes\u001b[0m \u001b[0;34m=\u001b[0m \u001b[0mbeat_genes\u001b[0m\u001b[0;34m.\u001b[0m\u001b[0mtranspose\u001b[0m\u001b[0;34m(\u001b[0m\u001b[0;34m)\u001b[0m\u001b[0;34m.\u001b[0m\u001b[0mreset_index\u001b[0m\u001b[0;34m(\u001b[0m\u001b[0;34m)\u001b[0m\u001b[0;34m.\u001b[0m\u001b[0mrename\u001b[0m\u001b[0;34m(\u001b[0m\u001b[0mcolumns\u001b[0m\u001b[0;34m=\u001b[0m\u001b[0;34m{\u001b[0m\u001b[0;34m\"index\"\u001b[0m\u001b[0;34m:\u001b[0m \u001b[0;34m\"sampleID\"\u001b[0m\u001b[0;34m}\u001b[0m\u001b[0;34m)\u001b[0m\u001b[0;34m\u001b[0m\u001b[0;34m\u001b[0m\u001b[0m\n\u001b[0m\u001b[1;32m      3\u001b[0m \u001b[0mt_beat_genes\u001b[0m\u001b[0;34m.\u001b[0m\u001b[0mshape\u001b[0m\u001b[0;34m(\u001b[0m\u001b[0;34m)\u001b[0m\u001b[0;34m\u001b[0m\u001b[0;34m\u001b[0m\u001b[0m\n\u001b[1;32m      4\u001b[0m \u001b[0mt_beat_genes\u001b[0m\u001b[0;34m.\u001b[0m\u001b[0mdescribe\u001b[0m\u001b[0;34m(\u001b[0m\u001b[0;34m)\u001b[0m\u001b[0;34m\u001b[0m\u001b[0;34m\u001b[0m\u001b[0m\n\u001b[1;32m      5\u001b[0m \u001b[0;31m# x = t_beat_drug\u001b[0m\u001b[0;34m\u001b[0m\u001b[0;34m\u001b[0m\u001b[0;34m\u001b[0m\u001b[0m\n",
      "\u001b[0;31mNameError\u001b[0m: name 'beat_genes' is not defined"
     ]
    }
   ],
   "source": [
    "# t_beat_drug = beat_drug.transpose().reset_index().rename(columns={\"index\": \"sampleID\"})\n",
    "t_beat_genes = beat_genes.transpose().reset_index().rename(columns={\"index\": \"sampleID\"})\n",
    "t_beat_genes.shape()\n",
    "t_beat_genes.describe()\n",
    "# x = t_beat_drug\n",
    "# y = t_beat_genes.values[5]\n",
    "# plt.plot(x,y, 'bo')"
   ]
  },
  {
   "cell_type": "markdown",
   "metadata": {},
   "source": []
  }
 ],
 "metadata": {
  "interpreter": {
   "hash": "31f2aee4e71d21fbe5cf8b01ff0e069b9275f58929596ceb00d14d90e3e16cd6"
  },
  "kernelspec": {
   "display_name": "Python 3.8.9 64-bit",
   "language": "python",
   "name": "python3"
  },
  "language_info": {
   "codemirror_mode": {
    "name": "ipython",
    "version": 3
   },
   "file_extension": ".py",
   "mimetype": "text/x-python",
   "name": "python",
   "nbconvert_exporter": "python",
   "pygments_lexer": "ipython3",
   "version": "3.8.5"
  },
  "orig_nbformat": 4
 },
 "nbformat": 4,
 "nbformat_minor": 2
}
